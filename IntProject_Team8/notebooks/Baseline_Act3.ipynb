{
 "cells": [
  {
   "cell_type": "markdown",
   "metadata": {},
   "source": [
    "# Avance 2. Ingeniería de Características\n",
    "\n",
    "### Integrantes:\n",
    "\n",
    "- **A01794940** José de Jesús Peña Rodríguez.  \n",
    "- **A01283104** Kevin Dueñas Aguirre.  \n",
    "- **A01794191** Juan Antonio Chiñas Mata.\n"
   ]
  },
  {
   "cell_type": "code",
   "execution_count": 22,
   "metadata": {},
   "outputs": [
    {
     "data": {
      "text/plain": [
       "<module 'my_functions' from '/Users/josedejesuspena/Documents/IntProject_Team8/IntProject_Team8/notebooks/my_functions.py'>"
      ]
     },
     "execution_count": 22,
     "metadata": {},
     "output_type": "execute_result"
    }
   ],
   "source": [
    "import os\n",
    "import warnings\n",
    "\n",
    "import numpy as np\n",
    "import pandas as pd\n",
    "import seaborn as sns\n",
    "import matplotlib.pyplot as plt\n",
    "from sklearn.cluster import KMeans\n",
    "\n",
    "import importlib\n",
    "import my_functions\n",
    "importlib.reload(my_functions)"
   ]
  },
  {
   "cell_type": "markdown",
   "metadata": {},
   "source": [
    "# Reading CSV file from local route"
   ]
  },
  {
   "cell_type": "code",
   "execution_count": 23,
   "metadata": {},
   "outputs": [],
   "source": [
    "warnings.filterwarnings(\"ignore\")\n",
    "CSV_PATH = \"dataset/Datos_Imgenes.csv\"\n",
    "df = pd.read_csv(read_csv(CSV_PATH))"
   ]
  },
  {
   "cell_type": "markdown",
   "metadata": {},
   "source": [
    "## Data Preprocessing  \n",
    "Based on a preliminary session with our tutor, we identified several columns that either lacked relevant information or contained redundant data already present in other columns. Consequently, we decided to remove the following columns:  \n",
    "\n",
    "- `index`  \n",
    "- `date`  \n",
    "- `page`  \n",
    "- `TotalPages`  \n",
    "- `ModelApplied`  \n",
    "- `Details`  \n",
    "- `ModelReported`  \n",
    "\n",
    "## Project Objective  \n",
    "For this project, it was explicitly required to develop a solution and analysis to identify groups of documents acquired by different machine learning models.  \n",
    "\n",
    "### Machine Learning Models  \n",
    "The models involved in this process are:  \n",
    "\n",
    "- `Model`  \n",
    "- `Estado_cuenta`  \n",
    "- `Recibo_nomina`  \n",
    "- `INE`  \n",
    "- `Comprobante_domicilio`  \n",
    "- `Carta_libranza`"
   ]
  },
  {
   "cell_type": "code",
   "execution_count": 24,
   "metadata": {},
   "outputs": [],
   "source": [
    "columns_to_delete = [\"Index\", \"Date\", \"Page\", \"TotalPages\",\"ModelApplied\", \"Details\",\"ModelReported\"]\n",
    "df = df.drop(columns=columns_to_delete, axis=1)"
   ]
  },
  {
   "cell_type": "markdown",
   "metadata": {},
   "source": [
    "# Creating a filter on Model column "
   ]
  },
  {
   "cell_type": "markdown",
   "metadata": {},
   "source": [
    "## Data Filtering and Preparation  \n",
    "\n",
    "In the following cells, we will apply filters to our base dataframe `df`, to extract a new dataframe called `models`.  \n",
    "\n",
    "The `models` dataframe will allow us to apply further filtering and generate new dataframes, each containing the necessary information for clustering.  \n"
   ]
  },
  {
   "cell_type": "code",
   "execution_count": 25,
   "metadata": {},
   "outputs": [
    {
     "data": {
      "text/plain": [
       "Model\n",
       "estado_cuenta            34140\n",
       "recibo_nomina            10193\n",
       "ine                       9346\n",
       "comprobante_domicilio     5780\n",
       "carta_libranza            3501\n",
       "Name: count, dtype: int64"
      ]
     },
     "execution_count": 25,
     "metadata": {},
     "output_type": "execute_result"
    }
   ],
   "source": [
    "models = df[\"Model\"].value_counts()\n",
    "models"
   ]
  },
  {
   "cell_type": "markdown",
   "metadata": {},
   "source": [
    "## Filtered Dataframes  \n",
    "\n",
    "By applying filters, we can generate new observations and create specific dataframes based on relevant criteria.  \n",
    "\n",
    "- **`df_edo_cta`**: This dataframe will contain at least four distinct values in the `ClassId` column: `TXT`, `APP`, `SUC`, and `ATM`.  \n",
    "- **`df_nom`**: This dataframe will have exactly four distinct values, using `DocType` as the reference column.  \n",
    "- **`df_ine`**: This dataframe will contain only two distinct values, taking `DocType` as the reference column.  \n",
    "- **`df_addy`**: This dataframe will include six different values, using `DocType` as the reference column.  \n",
    "\n"
   ]
  },
  {
   "cell_type": "markdown",
   "metadata": {},
   "source": [
    "## Displaying all diferent values in:\n",
    "- `estado_cuenta`  \n",
    "- `recibo_nomina`  \n",
    "- `ine`  \n",
    "- `comprobante_domicilio`  "
   ]
  },
  {
   "cell_type": "code",
   "execution_count": 26,
   "metadata": {},
   "outputs": [],
   "source": [
    "df_edo_cta = col_filter(df, \"Model\", \"estado_cuenta\")\n",
    "df_nom = col_filter(df, \"Model\", \"recibo_nomina\")\n",
    "df_ine = col_filter(df, \"Model\", \"ine\")\n",
    "df_addy = col_filter(df, \"Model\", \"comprobante_domicilio\")"
   ]
  },
  {
   "cell_type": "code",
   "execution_count": 27,
   "metadata": {},
   "outputs": [
    {
     "name": "stdout",
     "output_type": "stream",
     "text": [
      "ClassId\n",
      "TXN    26556\n",
      "APP     4261\n",
      "SUC     2581\n",
      "ATM      742\n",
      "Name: count, dtype: int64\n",
      "---\n",
      "DocType\n",
      "IMSS      5453\n",
      "ISSSTE    2077\n",
      "SEP       1360\n",
      "PEMEX      865\n",
      "IMSS3      438\n",
      "Name: count, dtype: int64\n",
      "---\n",
      "DocType\n",
      "INE     9336\n",
      "PASS      10\n",
      "Name: count, dtype: int64\n",
      "---\n",
      "DocType\n",
      "CFE      4512\n",
      "AGUA      726\n",
      "TEL       224\n",
      "CABLE     179\n",
      "CONST      78\n",
      "GAS        61\n",
      "Name: count, dtype: int64\n"
     ]
    }
   ],
   "source": [
    "print(df_edo_cta[\"ClassId\"].value_counts())\n",
    "print(\"---\")\n",
    "print(df_nom[\"DocType\"].value_counts())\n",
    "print(\"---\")\n",
    "print(df_ine[\"DocType\"].value_counts())\n",
    "print(\"---\")\n",
    "print(df_addy[\"DocType\"].value_counts())"
   ]
  },
  {
   "cell_type": "markdown",
   "metadata": {},
   "source": [
    "# PREPROCESING PER MODEL "
   ]
  },
  {
   "cell_type": "markdown",
   "metadata": {},
   "source": [
    "<small>\n",
    "\n",
    "## Clustering Procedure for Each Model  \n",
    "\n",
    "After obtaining `df_edo_cta`, we will apply the same clustering procedure to the remaining models.  \n",
    "\n",
    "### 1. Dropping Unnecessary Columns  \n",
    "- For `df_edo_cta`, we will drop only the `Models` column.  \n",
    "- For the other dataframes, we will drop both the `Models` and `ClassId` columns since the relevant information is contained in `DocType`.  \n",
    "\n",
    "### 2. Encoding Categorical Variables  \n",
    "- For `df_edo_cta`, we will apply One-Hot Encoding to the `ClassicId` column for clustering.  \n",
    "- For the remaining models, we will apply One-Hot Encoding to the `DocType` column.  \n",
    "\n",
    "### 3. Selecting Variables for Clustering  \n",
    "- The following variables will be used to define the clusters:  \n",
    "  - `Sharpness`  \n",
    "  - `Contrast`  \n",
    "  - `Clarity`  \n",
    "  - `Resolution`  \n",
    "\n",
    "### 4. Determining the Optimal Number of Clusters  \n",
    "- We will use the **Within-Cluster Sum of Squares (WCSS)** method to identify the best number of clusters for each model.  \n",
    "- K-Means clustering will be run for values ranging from 1 to 10 clusters.  \n",
    "- An elbow plot will be generated to visualize and determine the optimal number of clusters.  \n",
    "\n",
    "### 5. Validating the Clusters  \n",
    "- After identifying the optimal number of clusters, we will validate the results by comparing them to the distinct values from the previous filtering step for each model.  \n",
    "\n",
    "### 6. Visualizing the Clusters  \n",
    "- Finally, once the correct number of clusters has been confirmed, we will generate cluster plots for each model to visualize the results.  \n",
    "\n",
    "**Note**: Since there are five different models, the optimal number of clusters may vary for each one.  \n",
    "\n",
    "</small>\n"
   ]
  },
  {
   "cell_type": "code",
   "execution_count": 28,
   "metadata": {},
   "outputs": [],
   "source": [
    "df_edo_cta.drop(columns=\"Model\", inplace=True)\n",
    "df_nom.drop(columns=[\"Model\",\"ClassId\"], inplace=True)\n",
    "df_ine.drop(columns=[\"Model\",\"ClassId\"], inplace=True)\n",
    "df_addy.drop(columns=[\"Model\",\"ClassId\"], inplace=True)"
   ]
  },
  {
   "cell_type": "markdown",
   "metadata": {},
   "source": [
    "## Model- Estado cuenta"
   ]
  },
  {
   "cell_type": "markdown",
   "metadata": {},
   "source": [
    "### Codification OneHot for categorical columns"
   ]
  },
  {
   "cell_type": "code",
   "execution_count": 29,
   "metadata": {},
   "outputs": [
    {
     "name": "stdout",
     "output_type": "stream",
     "text": [
      "<class 'pandas.core.frame.DataFrame'>\n",
      "Index: 34140 entries, 4 to 62887\n",
      "Data columns (total 15 columns):\n",
      " #   Column          Non-Null Count  Dtype  \n",
      "---  ------          --------------  -----  \n",
      " 0   PagesProcessed  34140 non-null  int64  \n",
      " 1   Fields          34140 non-null  int64  \n",
      " 2   EmptyFields     34140 non-null  int64  \n",
      " 3   ConfR           34140 non-null  float64\n",
      " 4   ConfA           34140 non-null  float64\n",
      " 5   ConfW           34140 non-null  float64\n",
      " 6   Sharpness       34140 non-null  float64\n",
      " 7   Contrast        34140 non-null  float64\n",
      " 8   Clarity         34140 non-null  float64\n",
      " 9   Resolution      34140 non-null  float64\n",
      " 10  DocType         34140 non-null  object \n",
      " 11  ClassId_APP     34140 non-null  bool   \n",
      " 12  ClassId_ATM     34140 non-null  bool   \n",
      " 13  ClassId_SUC     34140 non-null  bool   \n",
      " 14  ClassId_TXN     34140 non-null  bool   \n",
      "dtypes: bool(4), float64(7), int64(3), object(1)\n",
      "memory usage: 3.3+ MB\n"
     ]
    }
   ],
   "source": [
    "df_edo_cta = pd.get_dummies(df_edo_cta, columns=[\"ClassId\"], drop_first=False)\n",
    "df_edo_cta.info()"
   ]
  },
  {
   "cell_type": "markdown",
   "metadata": {},
   "source": [
    "## Training the KNSS for Clustering  "
   ]
  },
  {
   "cell_type": "code",
   "execution_count": 30,
   "metadata": {},
   "outputs": [],
   "source": [
    "list_col = list(df_edo_cta.columns)\n",
    "\n",
    "X_var=[[\"Sharpness\",\"Contrast\"],\n",
    "        [\"Sharpness\",\"Clarity\"],\n",
    "        [\"Sharpness\",\"Resolution\"],\n",
    "        [\"Contrast\",\"Clarity\"],\n",
    "        [\"Contrast\",\"Resolution\"],\n",
    "        [\"Clarity\",\"Resolution\"]]"
   ]
  },
  {
   "cell_type": "code",
   "execution_count": 31,
   "metadata": {},
   "outputs": [],
   "source": [
    "X_pairs = pairs_x(list_col, X_var) "
   ]
  },
  {
   "cell_type": "code",
   "execution_count": 32,
   "metadata": {},
   "outputs": [
    {
     "ename": "NameError",
     "evalue": "name 'KMeans' is not defined",
     "output_type": "error",
     "traceback": [
      "\u001b[0;31m---------------------------------------------------------------------------\u001b[0m",
      "\u001b[0;31mNameError\u001b[0m                                 Traceback (most recent call last)",
      "Cell \u001b[0;32mIn[32], line 2\u001b[0m\n\u001b[1;32m      1\u001b[0m X_edo_cta \u001b[38;5;241m=\u001b[39m get_x(X_pairs, df_edo_cta)\n\u001b[0;32m----> 2\u001b[0m edo_cta_wss \u001b[38;5;241m=\u001b[39m wss_list(X_edo_cta)\n",
      "File \u001b[0;32m~/Documents/IntProject_Team8/IntProject_Team8/notebooks/my_functions.py:53\u001b[0m, in \u001b[0;36mwss_list\u001b[0;34m(x)\u001b[0m\n\u001b[1;32m     50\u001b[0m wcss \u001b[38;5;241m=\u001b[39m[]\n\u001b[1;32m     51\u001b[0m wcss_main \u001b[38;5;241m=\u001b[39m []\n\u001b[0;32m---> 53\u001b[0m \u001b[38;5;28;01mfor\u001b[39;00m j \u001b[38;5;129;01min\u001b[39;00m \u001b[38;5;28mrange\u001b[39m(\u001b[38;5;28mlen\u001b[39m(x)): \n\u001b[1;32m     54\u001b[0m     \u001b[38;5;28;01mfor\u001b[39;00m i \u001b[38;5;129;01min\u001b[39;00m \u001b[38;5;28mrange\u001b[39m(\u001b[38;5;241m1\u001b[39m,\u001b[38;5;241m11\u001b[39m):\n\u001b[1;32m     55\u001b[0m         kmeans \u001b[38;5;241m=\u001b[39m KMeans(n_clusters\u001b[38;5;241m=\u001b[39mi, init\u001b[38;5;241m=\u001b[39m\u001b[38;5;124m\"\u001b[39m\u001b[38;5;124mk-means++\u001b[39m\u001b[38;5;124m\"\u001b[39m, random_state\u001b[38;5;241m=\u001b[39m\u001b[38;5;241m42\u001b[39m)\n",
      "\u001b[0;31mNameError\u001b[0m: name 'KMeans' is not defined"
     ]
    }
   ],
   "source": [
    "X_edo_cta = get_x(X_pairs, df_edo_cta)\n",
    "edo_cta_wss = wss_list(X_edo_cta)"
   ]
  },
  {
   "cell_type": "markdown",
   "metadata": {},
   "source": [
    "### Best number of cluster is 4 based on Graphs "
   ]
  },
  {
   "cell_type": "code",
   "execution_count": null,
   "metadata": {},
   "outputs": [],
   "source": [
    "plt_elbow(edo_cta_wss,X_var)"
   ]
  },
  {
   "cell_type": "markdown",
   "metadata": {},
   "source": [
    "### KNSS Training"
   ]
  },
  {
   "cell_type": "code",
   "execution_count": null,
   "metadata": {},
   "outputs": [],
   "source": [
    "num_clusters = 4\n",
    "kmeans = KMeans(n_clusters=num_clusters, init=\"k-means++\", random_state=3)\n",
    "\n",
    "y_0 = kmeans.fit_predict(X_edo_cta[0]) # [['Sharpness', 'Contrast']\n",
    "y_1 = kmeans.fit_predict(X_edo_cta[1]) # ['Sharpness', 'Clarity']\n",
    "y_2 = kmeans.fit_predict(X_edo_cta[2]) # ['Sharpness', 'Resolution']\n",
    "y_3 = kmeans.fit_predict(X_edo_cta[3]) # ['Contrast', 'Clarity']\n",
    "y_4 = kmeans.fit_predict(X_edo_cta[4]) # ['Contrast', 'Resolution']\n",
    "y_5 = kmeans.fit_predict(X_edo_cta[5]) #  ['Clarity', 'Resolution']\n",
    "\n",
    "y_edo_cta = [y_0, y_1, y_2, y_3, y_4,y_5]\n"
   ]
  },
  {
   "cell_type": "code",
   "execution_count": null,
   "metadata": {},
   "outputs": [],
   "source": [
    "plot_clusters(4, X_edo_cta,y_edo_cta, X_var)"
   ]
  },
  {
   "cell_type": "markdown",
   "metadata": {},
   "source": [
    "The clustering effectively separates the Estado Cuenta data into four distinct groups, with varying patterns in Contrast and Resolution. This suggests meaningful differences in document characteristics, and the clusters can provide valuable insights for further analysis or classification tasks."
   ]
  },
  {
   "cell_type": "markdown",
   "metadata": {},
   "source": [
    "## Model- Recibo de Nomina"
   ]
  },
  {
   "cell_type": "markdown",
   "metadata": {},
   "source": [
    "### Codification OneHot for categorical columns"
   ]
  },
  {
   "cell_type": "code",
   "execution_count": null,
   "metadata": {},
   "outputs": [],
   "source": [
    "df_nom = pd.get_dummies(df_nom, columns=[\"DocType\"], drop_first=False)\n",
    "df_nom.info()"
   ]
  },
  {
   "cell_type": "code",
   "execution_count": null,
   "metadata": {},
   "outputs": [],
   "source": [
    "X_nom = get_x(X_pairs, df_nom)\n",
    "nom_wss = wss_list(X_nom)"
   ]
  },
  {
   "cell_type": "markdown",
   "metadata": {},
   "source": [
    "### Best number of cluster is 5 based on Graphs "
   ]
  },
  {
   "cell_type": "code",
   "execution_count": null,
   "metadata": {},
   "outputs": [],
   "source": [
    "plt_elbow(nom_wss,X_var)"
   ]
  },
  {
   "cell_type": "markdown",
   "metadata": {},
   "source": [
    "The clustering of Recibo Nomina data using Contrast, Resolution, Sharpness and Clarity reveals four clear groups, indicating meaningful separations in the dataset. The compact clusters and distinct centroids suggest that the k-means model effectively captured the data structure. These results highlight the relevance of the chosen features and provide a basis for further categorization or validation."
   ]
  },
  {
   "cell_type": "code",
   "execution_count": null,
   "metadata": {},
   "outputs": [],
   "source": [
    "num_clusters = 5\n",
    "kmeans = KMeans(n_clusters=num_clusters, init=\"k-means++\", random_state=3)\n",
    "\n",
    "y_0 = kmeans.fit_predict(X_nom[0]) # [['Sharpness', 'Contrast']\n",
    "y_1 = kmeans.fit_predict(X_nom[1]) # ['Sharpness', 'Clarity']\n",
    "y_2 = kmeans.fit_predict(X_nom[2]) # ['Sharpness', 'Resolution']\n",
    "y_3 = kmeans.fit_predict(X_nom[3]) # ['Contrast', 'Clarity']\n",
    "y_4 = kmeans.fit_predict(X_nom[4]) # ['Contrast', 'Resolution']\n",
    "y_5 = kmeans.fit_predict(X_nom[5]) #  ['Clarity', 'Resolution']\n",
    "\n",
    "y_nom = [y_0, y_1, y_2, y_3, y_4,y_5]"
   ]
  },
  {
   "cell_type": "code",
   "execution_count": null,
   "metadata": {},
   "outputs": [],
   "source": [
    "plot_clusters(5, X_nom,y_nom, X_var)"
   ]
  },
  {
   "cell_type": "markdown",
   "metadata": {},
   "source": [
    "## Model- INE"
   ]
  },
  {
   "cell_type": "markdown",
   "metadata": {},
   "source": [
    "clusters the INE data using the Contrast (X-axis) and Resolution (Y-axis) features with the k-means algorithm. It calculates the WCSS for 1 to 10 clusters to determine the optimal number of clusters and selects 2 clusters (n_clusters=2). The data points are plotted, with each cluster represented by distinct colors (green and red), and the cluster centroids are highlighted in yellow."
   ]
  },
  {
   "cell_type": "code",
   "execution_count": null,
   "metadata": {},
   "outputs": [],
   "source": [
    "df_ine = pd.get_dummies(df_ine, columns=[\"DocType\"], drop_first=False)\n",
    "df_ine.info()"
   ]
  },
  {
   "cell_type": "code",
   "execution_count": null,
   "metadata": {},
   "outputs": [],
   "source": [
    "X_ine = get_x(X_pairs, df_ine)\n",
    "ine_wss = wss_list(X_ine)"
   ]
  },
  {
   "cell_type": "markdown",
   "metadata": {},
   "source": [
    "### Best number of cluster is 2 based on Graphs "
   ]
  },
  {
   "cell_type": "code",
   "execution_count": null,
   "metadata": {},
   "outputs": [],
   "source": [
    "plt_elbow(ine_wss,X_var)"
   ]
  },
  {
   "cell_type": "markdown",
   "metadata": {},
   "source": [
    "### KNSS Training"
   ]
  },
  {
   "cell_type": "code",
   "execution_count": null,
   "metadata": {},
   "outputs": [],
   "source": [
    "num_clusters = 2\n",
    "kmeans = KMeans(n_clusters=num_clusters, init=\"k-means++\", random_state=3)\n",
    "\n",
    "y_0 = kmeans.fit_predict(X_ine[0]) # [['Sharpness', 'Contrast']\n",
    "y_1 = kmeans.fit_predict(X_ine[1]) # ['Sharpness', 'Clarity']\n",
    "y_2 = kmeans.fit_predict(X_ine[2]) # ['Sharpness', 'Resolution']\n",
    "y_3 = kmeans.fit_predict(X_ine[3]) # ['Contrast', 'Clarity']\n",
    "y_4 = kmeans.fit_predict(X_ine[4]) # ['Contrast', 'Resolution']\n",
    "y_5 = kmeans.fit_predict(X_ine[5]) #  ['Clarity', 'Resolution']\n",
    "\n",
    "y_ine = [y_0, y_1, y_2, y_3, y_4,y_5]"
   ]
  },
  {
   "cell_type": "code",
   "execution_count": null,
   "metadata": {},
   "outputs": [],
   "source": [
    "plot_clusters(2, X_ine,y_ine, X_var)"
   ]
  },
  {
   "cell_type": "markdown",
   "metadata": {},
   "source": [
    "Results shows two distinct groups based on Contrast and Resolution. The clusters are well-separated, indicating clear differences in the data distribution. This separation could provide insights into distinct patterns within the INE data and support further classification or analysis."
   ]
  },
  {
   "cell_type": "markdown",
   "metadata": {},
   "source": [
    "## Model- Comprobante de domicilio"
   ]
  },
  {
   "cell_type": "code",
   "execution_count": null,
   "metadata": {},
   "outputs": [],
   "source": [
    "df_addy = pd.get_dummies(df_addy, columns=[\"DocType\"], drop_first=False)\n",
    "df_addy.info()"
   ]
  },
  {
   "cell_type": "code",
   "execution_count": null,
   "metadata": {},
   "outputs": [],
   "source": [
    "X_addy = get_x(X_pairs, df_addy)\n",
    "addy_wss = wss_list(X_addy)"
   ]
  },
  {
   "cell_type": "markdown",
   "metadata": {},
   "source": [
    "### Best number of cluster is 6 based on Graphs "
   ]
  },
  {
   "cell_type": "code",
   "execution_count": null,
   "metadata": {},
   "outputs": [],
   "source": [
    "plt_elbow(addy_wss,X_var)"
   ]
  },
  {
   "cell_type": "markdown",
   "metadata": {},
   "source": [
    "### KNSS Training"
   ]
  },
  {
   "cell_type": "code",
   "execution_count": null,
   "metadata": {},
   "outputs": [],
   "source": [
    "num_clusters = 6\n",
    "kmeans = KMeans(n_clusters=num_clusters, init=\"k-means++\", random_state=3)\n",
    "\n",
    "y_0 = kmeans.fit_predict(X_addy[0]) # [['Sharpness', 'Contrast']\n",
    "y_1 = kmeans.fit_predict(X_addy[1]) # ['Sharpness', 'Clarity']\n",
    "y_2 = kmeans.fit_predict(X_addy[2]) # ['Sharpness', 'Resolution']\n",
    "y_3 = kmeans.fit_predict(X_addy[3]) # ['Contrast', 'Clarity']\n",
    "y_4 = kmeans.fit_predict(X_addy[4]) # ['Contrast', 'Resolution']\n",
    "y_5 = kmeans.fit_predict(X_addy[5]) #  ['Clarity', 'Resolution']\n",
    "\n",
    "y_addy = [y_0, y_1, y_2, y_3, y_4,y_5]"
   ]
  },
  {
   "cell_type": "code",
   "execution_count": null,
   "metadata": {},
   "outputs": [],
   "source": [
    "plot_clusters(6, X_addy,y_addy, X_var)"
   ]
  },
  {
   "cell_type": "markdown",
   "metadata": {},
   "source": [
    "The clustering reveals six distinct groups based on Contrast and Resolution, indicating clear separations in the dataset. This clustering can be used to analyze patterns or similarities within the Comprobante de Domicilio data, providing meaningful insights for classification or further analysis."
   ]
  },
  {
   "cell_type": "markdown",
   "metadata": {},
   "source": [
    "## Conclusions\n",
    "\n",
    "- **No Missing Values**:  \n",
    "  The dataframe does not contain any missing values, so no additional data imputation was necessary during the process.\n",
    "\n",
    "- **Outliers and PCA**:  \n",
    "  The data analysis verified that the information in the dataframe does not contain significant outliers. After applying Principal Component Analysis (PCA) on the entire dataframe, we found that the current columns explain more than 80% of the variation in our model. This analysis is documented in the `FE_transformation.ipynb` file located in this folder.\n",
    "\n",
    "- **Categorical Data Encoding**:  \n",
    "  Since we are applying clustering, One-Hot Encoding was chosen for categorical variables, as it has shown good results when used in conjunction with clustering algorithms.\n",
    "\n",
    "- **WCSS for Clustering**:  \n",
    "  While WCSS (Within-Cluster Sum of Squares) is not listed as a recommended feature engineering method for this activity, it played a crucial role in ensuring that the number of clusters chosen for each model was the most optimal.\n",
    "\n",
    "- **KMeans Clustering Implementation**:  \n",
    "  We started implementing model training based on KMeans clustering to assess the cluster performance across our models. The results so far are promising in terms of correct distributions, but there are still a few aspects that need to be confirmed with our tutor. Some of the questions we intend to discuss include:\n",
    "  \n",
    "    1. Our preliminary clustering analysis using KMeans shows good results, but we are only plotting two variables (Resolution and Contrast) for all models. Is it necessary to demonstrate clustering performance with additional variables?\n",
    "    \n",
    "    2. Besides KMeans, are there other clustering methods you would recommend exploring to further differentiate the performance of the models?\n"
   ]
  }
 ],
 "metadata": {
  "kernelspec": {
   "display_name": "tensorflow",
   "language": "python",
   "name": "python3"
  },
  "language_info": {
   "codemirror_mode": {
    "name": "ipython",
    "version": 3
   },
   "file_extension": ".py",
   "mimetype": "text/x-python",
   "name": "python",
   "nbconvert_exporter": "python",
   "pygments_lexer": "ipython3",
   "version": "3.11.7"
  }
 },
 "nbformat": 4,
 "nbformat_minor": 2
}
